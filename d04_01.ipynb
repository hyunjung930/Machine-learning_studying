{
  "nbformat": 4,
  "nbformat_minor": 0,
  "metadata": {
    "colab": {
      "name": "d04_01.ipynb",
      "provenance": [],
      "collapsed_sections": [],
      "authorship_tag": "ABX9TyPDuqlNXPgJtKGo1zfeW6O4",
      "include_colab_link": true
    },
    "kernelspec": {
      "name": "python3",
      "display_name": "Python 3"
    },
    "language_info": {
      "name": "python"
    }
  },
  "cells": [
    {
      "cell_type": "markdown",
      "metadata": {
        "id": "view-in-github",
        "colab_type": "text"
      },
      "source": [
        "<a href=\"https://colab.research.google.com/github/hyunjung930/machine-learning/blob/hyunjung/d04_01.ipynb\" target=\"_parent\"><img src=\"https://colab.research.google.com/assets/colab-badge.svg\" alt=\"Open In Colab\"/></a>"
      ]
    },
    {
      "cell_type": "code",
      "execution_count": 64,
      "metadata": {
        "colab": {
          "base_uri": "https://localhost:8080/",
          "height": 54
        },
        "id": "_EGmqr9sVh_Q",
        "outputId": "beb1aafe-f3e2-437a-d6eb-67c563194b67"
      },
      "outputs": [
        {
          "output_type": "stream",
          "name": "stdout",
          "text": [
            "Drive already mounted at /content/drive; to attempt to forcibly remount, call drive.mount(\"/content/drive\", force_remount=True).\n"
          ]
        },
        {
          "output_type": "display_data",
          "data": {
            "text/plain": [
              "<Figure size 432x288 with 0 Axes>"
            ]
          },
          "metadata": {}
        }
      ],
      "source": [
        "%run my_init.py"
      ]
    },
    {
      "cell_type": "code",
      "source": [
        "%matplotlib inline"
      ],
      "metadata": {
        "id": "jQY17ymVWU91"
      },
      "execution_count": 65,
      "outputs": []
    },
    {
      "cell_type": "code",
      "source": [
        "fish_length = [25.4, 26.3, 26.5, 29.0, 29.0, 29.7, 29.7, 30.0, 30.0, 30.7, 31.0, 31.0, \n",
        "                31.5, 32.0, 32.0, 32.0, 33.0, 33.0, 33.5, 33.5, 34.0, 34.0, 34.5, 35.0, \n",
        "                35.0, 35.0, 35.0, 36.0, 36.0, 37.0, 38.5, 38.5, 39.5, 41.0, 41.0, 9.8, \n",
        "                10.5, 10.6, 11.0, 11.2, 11.3, 11.8, 11.8, 12.0, 12.2, 12.4, 13.0, 14.3, 15.0]\n",
        "fish_weight = [242.0, 290.0, 340.0, 363.0, 430.0, 450.0, 500.0, 390.0, 450.0, 500.0, 475.0, 500.0, \n",
        "                500.0, 340.0, 600.0, 600.0, 700.0, 700.0, 610.0, 650.0, 575.0, 685.0, 620.0, 680.0, \n",
        "                700.0, 725.0, 720.0, 714.0, 850.0, 1000.0, 920.0, 955.0, 925.0, 975.0, 950.0, 6.7, \n",
        "                7.5, 7.0, 9.7, 9.8, 8.7, 10.0, 9.9, 9.8, 12.2, 13.4, 12.2, 19.7, 19.9]"
      ],
      "metadata": {
        "id": "wXvdhKzIfuiT"
      },
      "execution_count": 66,
      "outputs": []
    },
    {
      "cell_type": "code",
      "source": [
        "fish_data = np.column_stack((fish_length, fish_weight))\n",
        "fish_data.shape"
      ],
      "metadata": {
        "colab": {
          "base_uri": "https://localhost:8080/"
        },
        "id": "hcce2XKmfw3S",
        "outputId": "92084b42-a3f9-442d-f280-9821195f9965"
      },
      "execution_count": 67,
      "outputs": [
        {
          "output_type": "execute_result",
          "data": {
            "text/plain": [
              "(49, 2)"
            ]
          },
          "metadata": {},
          "execution_count": 67
        }
      ]
    },
    {
      "cell_type": "code",
      "source": [
        "np.ones((3,4), dtype = 'int') #dtype을 이용해서 타입 지정 가능."
      ],
      "metadata": {
        "colab": {
          "base_uri": "https://localhost:8080/"
        },
        "id": "6BGHe0Odjkzi",
        "outputId": "1d1d5209-6a2b-46d6-b63b-7b382d469360"
      },
      "execution_count": 68,
      "outputs": [
        {
          "output_type": "execute_result",
          "data": {
            "text/plain": [
              "array([[1, 1, 1, 1],\n",
              "       [1, 1, 1, 1],\n",
              "       [1, 1, 1, 1]])"
            ]
          },
          "metadata": {},
          "execution_count": 68
        }
      ]
    },
    {
      "cell_type": "code",
      "source": [
        "fish_target = np.concatenate((np.ones(35), np.zeros(14)))\n",
        "fish_target.shape"
      ],
      "metadata": {
        "colab": {
          "base_uri": "https://localhost:8080/"
        },
        "id": "NfQPYw3Xjcoh",
        "outputId": "4185a3d3-19b6-48c5-a631-2cf3aec8dd4b"
      },
      "execution_count": 69,
      "outputs": [
        {
          "output_type": "execute_result",
          "data": {
            "text/plain": [
              "(49,)"
            ]
          },
          "metadata": {},
          "execution_count": 69
        }
      ]
    },
    {
      "cell_type": "code",
      "source": [
        "np.unique(fish_target, return_counts = True) # return_counts : 빈도수"
      ],
      "metadata": {
        "colab": {
          "base_uri": "https://localhost:8080/"
        },
        "id": "gTPEaja_pEAD",
        "outputId": "00126536-6240-4a69-a54f-c4259d21fdde"
      },
      "execution_count": 70,
      "outputs": [
        {
          "output_type": "execute_result",
          "data": {
            "text/plain": [
              "(array([0., 1.]), array([14, 35]))"
            ]
          },
          "metadata": {},
          "execution_count": 70
        }
      ]
    },
    {
      "cell_type": "code",
      "source": [
        "14/49, 35/49"
      ],
      "metadata": {
        "colab": {
          "base_uri": "https://localhost:8080/"
        },
        "id": "w0HwwTLdqXS4",
        "outputId": "d1708f52-846c-4aeb-9543-bdce66bcdaab"
      },
      "execution_count": 71,
      "outputs": [
        {
          "output_type": "execute_result",
          "data": {
            "text/plain": [
              "(0.2857142857142857, 0.7142857142857143)"
            ]
          },
          "metadata": {},
          "execution_count": 71
        }
      ]
    },
    {
      "cell_type": "code",
      "source": [
        "from sklearn.model_selection import train_test_split\n",
        "#긴 라인을 쓸 때 줄 이음표 사용 한다.(가독성)\n",
        "train_input, test_input, train_target, test_target = \\\n",
        "  train_test_split(fish_data, fish_target, test_size = 0.25, random_state=42, stratify=fish_target) \n",
        "#test_size: 0.25가 디폴트\n",
        "# stratify: 전체 데이터의 target을 넣어줘야 한다."
      ],
      "metadata": {
        "id": "dL2OL8Zhjw55"
      },
      "execution_count": 72,
      "outputs": []
    },
    {
      "cell_type": "code",
      "source": [
        "train_input.shape, train_target.shape"
      ],
      "metadata": {
        "colab": {
          "base_uri": "https://localhost:8080/"
        },
        "id": "EhRwe2G9jxuq",
        "outputId": "c2b1c61f-0ed4-4068-ce27-dd4850e3357f"
      },
      "execution_count": 73,
      "outputs": [
        {
          "output_type": "execute_result",
          "data": {
            "text/plain": [
              "((36, 2), (36,))"
            ]
          },
          "metadata": {},
          "execution_count": 73
        }
      ]
    },
    {
      "cell_type": "code",
      "source": [
        "test_input.shape, test_target.shape"
      ],
      "metadata": {
        "colab": {
          "base_uri": "https://localhost:8080/"
        },
        "id": "SSgGChhRjx3w",
        "outputId": "ad17b27d-7614-4ab5-9f45-2cf600a023a3"
      },
      "execution_count": 74,
      "outputs": [
        {
          "output_type": "execute_result",
          "data": {
            "text/plain": [
              "((13, 2), (13,))"
            ]
          },
          "metadata": {},
          "execution_count": 74
        }
      ]
    },
    {
      "cell_type": "code",
      "source": [
        "np.unique(train_target,return_counts = True)"
      ],
      "metadata": {
        "colab": {
          "base_uri": "https://localhost:8080/"
        },
        "id": "-kMhBBWSp_5g",
        "outputId": "967b776c-7bfd-49c5-9d10-754cfaf7ed02"
      },
      "execution_count": 75,
      "outputs": [
        {
          "output_type": "execute_result",
          "data": {
            "text/plain": [
              "(array([0., 1.]), array([10, 26]))"
            ]
          },
          "metadata": {},
          "execution_count": 75
        }
      ]
    },
    {
      "cell_type": "code",
      "source": [
        "10/36,26/36"
      ],
      "metadata": {
        "colab": {
          "base_uri": "https://localhost:8080/"
        },
        "id": "m8urXkclqAAh",
        "outputId": "fd42baeb-8281-4377-dfae-c29ff1d2128b"
      },
      "execution_count": 76,
      "outputs": [
        {
          "output_type": "execute_result",
          "data": {
            "text/plain": [
              "(0.2777777777777778, 0.7222222222222222)"
            ]
          },
          "metadata": {},
          "execution_count": 76
        }
      ]
    },
    {
      "cell_type": "code",
      "source": [
        "np.unique(test_target,return_counts = True)"
      ],
      "metadata": {
        "colab": {
          "base_uri": "https://localhost:8080/"
        },
        "id": "uAnSbteeqAIR",
        "outputId": "81be5b7d-de5d-41f2-b05d-e9ba7db76c2b"
      },
      "execution_count": 77,
      "outputs": [
        {
          "output_type": "execute_result",
          "data": {
            "text/plain": [
              "(array([0., 1.]), array([4, 9]))"
            ]
          },
          "metadata": {},
          "execution_count": 77
        }
      ]
    },
    {
      "cell_type": "code",
      "source": [
        "4/13, 9/13"
      ],
      "metadata": {
        "colab": {
          "base_uri": "https://localhost:8080/"
        },
        "id": "Iz7zuRvTqAPx",
        "outputId": "e823cbce-6b7b-42fc-f79b-c1e8b3138ef8"
      },
      "execution_count": 78,
      "outputs": [
        {
          "output_type": "execute_result",
          "data": {
            "text/plain": [
              "(0.3076923076923077, 0.6923076923076923)"
            ]
          },
          "metadata": {},
          "execution_count": 78
        }
      ]
    },
    {
      "cell_type": "code",
      "source": [
        "from sklearn.neighbors import KNeighborsClassifier\n",
        "from sklearn.metrics import accuracy_score\n",
        "\n",
        "kn = KNeighborsClassifier()\n",
        "kn.fit(train_input, train_target)\n",
        "#print(kn.score(test_input, test_target))\n",
        "y_pred = kn.predict(test_input)\n",
        "print(accuracy_score(test_target,kn.predict(test_input)))"
      ],
      "metadata": {
        "colab": {
          "base_uri": "https://localhost:8080/"
        },
        "id": "h-uGtPALre5z",
        "outputId": "f63aee55-9e76-432e-f876-a304cb2e7312"
      },
      "execution_count": 79,
      "outputs": [
        {
          "output_type": "stream",
          "name": "stdout",
          "text": [
            "1.0\n"
          ]
        }
      ]
    },
    {
      "cell_type": "code",
      "source": [
        "kn.predict([[25,150]]) #이렇게 출력하면 빙어의 값이 나옴"
      ],
      "metadata": {
        "colab": {
          "base_uri": "https://localhost:8080/"
        },
        "id": "vPVw7dhvrfKs",
        "outputId": "157af362-3d0d-4316-df8a-614172b7537b"
      },
      "execution_count": 80,
      "outputs": [
        {
          "output_type": "execute_result",
          "data": {
            "text/plain": [
              "array([0.])"
            ]
          },
          "metadata": {},
          "execution_count": 80
        }
      ]
    },
    {
      "cell_type": "code",
      "source": [
        "dist,idx = kn.kneighbors([[25,150]])"
      ],
      "metadata": {
        "id": "YUz_VHv9rfXY"
      },
      "execution_count": 81,
      "outputs": []
    },
    {
      "cell_type": "code",
      "source": [
        "dist #distance return값 가장 가까운 거리의 5개 값(defalut = 5)"
      ],
      "metadata": {
        "colab": {
          "base_uri": "https://localhost:8080/"
        },
        "id": "Y04NgzX0rfjA",
        "outputId": "99436bd9-d90d-49ff-cd01-26c3edea3767"
      },
      "execution_count": 82,
      "outputs": [
        {
          "output_type": "execute_result",
          "data": {
            "text/plain": [
              "array([[ 92.00086956, 130.48375378, 130.73859415, 138.32150953,\n",
              "        138.39320793]])"
            ]
          },
          "metadata": {},
          "execution_count": 82
        }
      ]
    },
    {
      "cell_type": "code",
      "source": [
        "idx"
      ],
      "metadata": {
        "colab": {
          "base_uri": "https://localhost:8080/"
        },
        "id": "Bk49oFgZ46dY",
        "outputId": "3101b2b4-03fc-4143-96ad-a34786b59fc6"
      },
      "execution_count": 83,
      "outputs": [
        {
          "output_type": "execute_result",
          "data": {
            "text/plain": [
              "array([[21, 33, 19, 30,  1]])"
            ]
          },
          "metadata": {},
          "execution_count": 83
        }
      ]
    },
    {
      "cell_type": "code",
      "source": [
        "#fancy indexing :인덱스 배열을 전달하면 해당 인덱스를 select할 수 있다.\n",
        "train_target[idx[0]] #0을 준 이유는 2차원 구조이기 때문."
      ],
      "metadata": {
        "colab": {
          "base_uri": "https://localhost:8080/"
        },
        "id": "Fhb5_DL-46k3",
        "outputId": "01e7ae64-1c3d-46c2-8170-3d0ef6c47d39"
      },
      "execution_count": 84,
      "outputs": [
        {
          "output_type": "execute_result",
          "data": {
            "text/plain": [
              "array([1., 0., 0., 0., 0.])"
            ]
          },
          "metadata": {},
          "execution_count": 84
        }
      ]
    },
    {
      "cell_type": "code",
      "source": [
        "plt.scatter(train_input[:,0], train_input[:,1])\n",
        "plt.scatter(25,150,marker ='^')\n",
        "plt.scatter(train_input[idx[0],0], train_input[idx[0],1], marker='D')\n",
        "plt.xlabel('length')\n",
        "plt.ylabel('weight')\n",
        "plt.show()"
      ],
      "metadata": {
        "colab": {
          "base_uri": "https://localhost:8080/",
          "height": 279
        },
        "id": "u0oxYR8O5Ux5",
        "outputId": "7ced4282-87fb-4742-a93a-2c5a9bb03a3c"
      },
      "execution_count": 85,
      "outputs": [
        {
          "output_type": "display_data",
          "data": {
            "text/plain": [
              "<Figure size 432x288 with 1 Axes>"
            ],
            "image/png": "[encoded data removed]"
          },
          "metadata": {
            "needs_background": "light"
          }
        }
      ]
    },
    {
      "cell_type": "code",
      "source": [
        "plt.scatter(train_input[:,0], train_input[:,1])\n",
        "plt.scatter(25,150,marker ='^')\n",
        "plt.scatter(train_input[idx[0],0], train_input[idx[0],1], marker='D')\n",
        "plt.xlabel('length')\n",
        "plt.ylabel('weight')\n",
        "plt.xlim((0, 1000))\n",
        "plt.show()"
      ],
      "metadata": {
        "colab": {
          "base_uri": "https://localhost:8080/",
          "height": 279
        },
        "id": "aaio1tAfC40W",
        "outputId": "62dbe247-7b25-4015-87c9-6266a79be8c5"
      },
      "execution_count": 86,
      "outputs": [
        {
          "output_type": "display_data",
          "data": {
            "text/plain": [
              "<Figure size 432x288 with 1 Axes>"
            ],
            "image/png": "[encoded data removed]"
          },
          "metadata": {
            "needs_background": "light"
          }
        }
      ]
    },
    {
      "cell_type": "code",
      "source": [
        "#평균 x_train => train_input\n",
        "train_mean = np.mean(train_input, axis = 0)\n",
        "#표준편차\n",
        "train_std = np.std(train_input, axis = 0)"
      ],
      "metadata": {
        "id": "gL3-BegxC460"
      },
      "execution_count": 138,
      "outputs": []
    },
    {
      "cell_type": "code",
      "source": [
        "train_mean"
      ],
      "metadata": {
        "colab": {
          "base_uri": "https://localhost:8080/"
        },
        "id": "b8nrMs91C5Cu",
        "outputId": "0511fa00-9dfa-4a16-e282-dc8c967f2246"
      },
      "execution_count": 139,
      "outputs": [
        {
          "output_type": "execute_result",
          "data": {
            "text/plain": [
              "array([ 27.29722222, 454.09722222])"
            ]
          },
          "metadata": {},
          "execution_count": 139
        }
      ]
    },
    {
      "cell_type": "code",
      "source": [
        "train_std"
      ],
      "metadata": {
        "colab": {
          "base_uri": "https://localhost:8080/"
        },
        "id": "GbHGc-O0D8Sf",
        "outputId": "46f94ab6-c356-4d00-cd52-c24db608c972"
      },
      "execution_count": 140,
      "outputs": [
        {
          "output_type": "execute_result",
          "data": {
            "text/plain": [
              "array([  9.98244253, 323.29893931])"
            ]
          },
          "metadata": {},
          "execution_count": 140
        }
      ]
    },
    {
      "cell_type": "code",
      "source": [
        "train_scaled = (train_input - train_mean) / train_std"
      ],
      "metadata": {
        "id": "XTYN752UD8Yj"
      },
      "execution_count": 141,
      "outputs": []
    },
    {
      "cell_type": "code",
      "source": [
        "train_mean"
      ],
      "metadata": {
        "colab": {
          "base_uri": "https://localhost:8080/"
        },
        "id": "JsztGPepD8gD",
        "outputId": "a79f8c6a-2686-4bb1-b690-f30c0ddb5755"
      },
      "execution_count": 142,
      "outputs": [
        {
          "output_type": "execute_result",
          "data": {
            "text/plain": [
              "array([ 27.29722222, 454.09722222])"
            ]
          },
          "metadata": {},
          "execution_count": 142
        }
      ]
    },
    {
      "cell_type": "code",
      "source": [
        "train_std"
      ],
      "metadata": {
        "colab": {
          "base_uri": "https://localhost:8080/"
        },
        "id": "qtum4eXmEdew",
        "outputId": "c8fc4f65-6dc0-48cd-8d98-39fcb624db69"
      },
      "execution_count": 143,
      "outputs": [
        {
          "output_type": "execute_result",
          "data": {
            "text/plain": [
              "array([  9.98244253, 323.29893931])"
            ]
          },
          "metadata": {},
          "execution_count": 143
        }
      ]
    },
    {
      "cell_type": "code",
      "source": [
        "train_scaled = (train_input - train_mean) / train_std\n",
        "train_scaled"
      ],
      "metadata": {
        "colab": {
          "base_uri": "https://localhost:8080/"
        },
        "id": "J15grV4hEdkP",
        "outputId": "0a88f431-84d5-4322-d4a9-1b648f73d057"
      },
      "execution_count": 144,
      "outputs": [
        {
          "output_type": "execute_result",
          "data": {
            "text/plain": [
              "array([[ 0.24070039,  0.14198246],\n",
              "       [-1.51237757, -1.36683783],\n",
              "       [ 0.5712808 ,  0.76060496],\n",
              "       [-1.60253587, -1.37766373],\n",
              "       [ 1.22242404,  1.45655528],\n",
              "       [ 0.17057727, -0.07453542],\n",
              "       [ 0.87180845,  0.80390854],\n",
              "       [ 0.87180845,  1.22457184],\n",
              "       [ 0.37092904,  0.06465464],\n",
              "       [ 0.77163257,  0.82246721],\n",
              "       [ 0.97198434,  1.68853872],\n",
              "       [-1.61255346, -1.3742613 ],\n",
              "       [ 0.72154463,  0.51315596],\n",
              "       [-1.53241275, -1.3742613 ],\n",
              "       [ 0.17057727, -0.28177396],\n",
              "       [ 0.5712808 ,  0.76060496],\n",
              "       [ 0.34087627,  0.14198246],\n",
              "       [ 1.12224816,  1.54934866],\n",
              "       [ 0.62136874,  0.60594934],\n",
              "       [-1.30200822, -1.34363949],\n",
              "       [ 0.42101698,  0.14198246],\n",
              "       [-0.19005591, -0.65604058],\n",
              "       [-1.75279969, -1.38384995],\n",
              "       [ 0.47110492,  0.45129371],\n",
              "       [-1.68267658, -1.38137546],\n",
              "       [ 0.62136874,  0.48222484],\n",
              "       [-1.67265899, -1.38292202],\n",
              "       [ 0.77163257,  0.76060496],\n",
              "       [ 0.47110492,  0.45129371],\n",
              "       [ 0.77163257,  0.83793278],\n",
              "       [-1.43223687, -1.36683783],\n",
              "       [ 0.27075315, -0.01267317],\n",
              "       [ 0.47110492, -0.35291555],\n",
              "       [-1.2318851 , -1.34302087],\n",
              "       [ 0.27075315, -0.19825992],\n",
              "       [ 1.37268787,  1.61121091]])"
            ]
          },
          "metadata": {},
          "execution_count": 144
        }
      ]
    },
    {
      "cell_type": "code",
      "source": [
        "kn.fit(train_scaled, train_target)"
      ],
      "metadata": {
        "colab": {
          "base_uri": "https://localhost:8080/"
        },
        "id": "xh3iNPeOEdon",
        "outputId": "4a417746-12ad-46e3-9da5-17387334bad0"
      },
      "execution_count": 145,
      "outputs": [
        {
          "output_type": "execute_result",
          "data": {
            "text/plain": [
              "KNeighborsClassifier()"
            ]
          },
          "metadata": {},
          "execution_count": 145
        }
      ]
    },
    {
      "cell_type": "code",
      "source": [
        "test_scaled = (test_input - train_mean) / train_std\n",
        "test_scaled"
      ],
      "metadata": {
        "colab": {
          "base_uri": "https://localhost:8080/"
        },
        "id": "1b6GFmAfE5AN",
        "outputId": "591fdcd2-3500-4eca-daab-450208269e58"
      },
      "execution_count": 146,
      "outputs": [
        {
          "output_type": "execute_result",
          "data": {
            "text/plain": [
              "array([[-1.63258863, -1.37457062],\n",
              "       [-1.55244793, -1.37395199],\n",
              "       [ 0.24070039, -0.01267317],\n",
              "       [-1.55244793, -1.37364268],\n",
              "       [-0.07986244, -0.35291555],\n",
              "       [-1.4923424 , -1.3631261 ],\n",
              "       [ 0.67145669,  0.71420828],\n",
              "       [ 0.67145669,  0.3739659 ],\n",
              "       [ 1.12224816,  1.44108972],\n",
              "       [ 0.77163257,  0.69874271],\n",
              "       [-0.09989762, -0.50757117],\n",
              "       [ 0.37092904,  0.14198246],\n",
              "       [ 1.37268787,  1.5338831 ]])"
            ]
          },
          "metadata": {},
          "execution_count": 146
        }
      ]
    },
    {
      "cell_type": "code",
      "source": [
        "#예측하기\n",
        "accuracy_score(test_target, kn.predict(test_scaled))"
      ],
      "metadata": {
        "colab": {
          "base_uri": "https://localhost:8080/"
        },
        "id": "sBm7MPPHFLj2",
        "outputId": "2ff85420-7f75-43eb-957a-d76d32a3146d"
      },
      "execution_count": 147,
      "outputs": [
        {
          "output_type": "execute_result",
          "data": {
            "text/plain": [
              "1.0"
            ]
          },
          "metadata": {},
          "execution_count": 147
        }
      ]
    },
    {
      "cell_type": "code",
      "source": [
        "new_data = ([[25,100]] - train_mean) / train_std\n",
        "new_data"
      ],
      "metadata": {
        "colab": {
          "base_uri": "https://localhost:8080/"
        },
        "id": "iGvD8N1CFLyr",
        "outputId": "1d44cd2a-0438-4689-da06-fb71f6534422"
      },
      "execution_count": 148,
      "outputs": [
        {
          "output_type": "execute_result",
          "data": {
            "text/plain": [
              "array([[-0.23012627, -1.09526255]])"
            ]
          },
          "metadata": {},
          "execution_count": 148
        }
      ]
    },
    {
      "cell_type": "code",
      "source": [
        "dist, idx = kn.kneighbors([[-0.6895457 , -0.44978403]])"
      ],
      "metadata": {
        "id": "z1hrOfkyGRmk"
      },
      "execution_count": 149,
      "outputs": []
    },
    {
      "cell_type": "code",
      "source": [
        "dist"
      ],
      "metadata": {
        "colab": {
          "base_uri": "https://localhost:8080/"
        },
        "id": "tWrYXhVrGVe8",
        "outputId": "ab9c9f9c-de4c-4087-bd02-630a743a3364"
      },
      "execution_count": 150,
      "outputs": [
        {
          "output_type": "execute_result",
          "data": {
            "text/plain": [
              "array([[0.54039968, 0.87637829, 0.93841517, 0.99269243, 1.04498999]])"
            ]
          },
          "metadata": {},
          "execution_count": 150
        }
      ]
    },
    {
      "cell_type": "code",
      "source": [
        "idx # 데이터의 가까운 값 변경"
      ],
      "metadata": {
        "colab": {
          "base_uri": "https://localhost:8080/"
        },
        "id": "N1AC2t5fGxxF",
        "outputId": "bbc6377e-fbc1-47c1-e025-29d9bdb236ab"
      },
      "execution_count": 151,
      "outputs": [
        {
          "output_type": "execute_result",
          "data": {
            "text/plain": [
              "array([[21, 14,  5, 34, 33]])"
            ]
          },
          "metadata": {},
          "execution_count": 151
        }
      ]
    },
    {
      "cell_type": "code",
      "source": [
        "kn.predict(new_data)"
      ],
      "metadata": {
        "colab": {
          "base_uri": "https://localhost:8080/"
        },
        "id": "INb4OfZGHUD1",
        "outputId": "db684888-0fa8-4b60-fcfa-d3778fb48287"
      },
      "execution_count": 152,
      "outputs": [
        {
          "output_type": "execute_result",
          "data": {
            "text/plain": [
              "array([1.])"
            ]
          },
          "metadata": {},
          "execution_count": 152
        }
      ]
    },
    {
      "cell_type": "code",
      "source": [
        "plt.scatter(train_scaled[:,0], train_scaled[:,1])\n",
        "plt.scatter(new_data[0,0], new_data[0, 1],150,marker ='^')\n",
        "plt.scatter(train_scaled[idx[0],0], train_scaled[idx[0],1], marker='D')\n",
        "plt.xlabel('length')\n",
        "plt.ylabel('weight')\n",
        "plt.show()"
      ],
      "metadata": {
        "colab": {
          "base_uri": "https://localhost:8080/",
          "height": 279
        },
        "id": "bsKCVzMeFzKz",
        "outputId": "a14acf6f-f19a-40bf-a8ec-aba3c84fa940"
      },
      "execution_count": 153,
      "outputs": [
        {
          "output_type": "display_data",
          "data": {
            "text/plain": [
              "<Figure size 432x288 with 1 Axes>"
            ],
            "image/png": "[encoded data removed]"
          },
          "metadata": {
            "needs_background": "light"
          }
        }
      ]
    }
  ]
}