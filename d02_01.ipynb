{
  "nbformat": 4,
  "nbformat_minor": 0,
  "metadata": {
    "colab": {
      "name": "d02_01.ipynb",
      "provenance": [],
      "collapsed_sections": [],
      "include_colab_link": true
    },
    "kernelspec": {
      "name": "python3",
      "display_name": "Python 3"
    },
    "language_info": {
      "name": "python"
    }
  },
  "cells": [
    {
      "cell_type": "markdown",
      "metadata": {
        "id": "view-in-github",
        "colab_type": "text"
      },
      "source": [
        "<a href=\"https://colab.research.google.com/github/hyunjung930/machine-learning/blob/hyunjung/d02_01.ipynb\" target=\"_parent\"><img src=\"https://colab.research.google.com/assets/colab-badge.svg\" alt=\"Open In Colab\"/></a>"
      ]
    },
    {
      "cell_type": "code",
      "source": [
        "# 코랩에서 한글 폰트 설치하기\n",
        "#!sudo apt-get install -y fonts-nanum\n",
        "#!sudo fc-cache -fv\n",
        "#!rm ~/.cache/matplotlib -rf\n",
        "# 1. 최초 실행 후 런타임 재기동 하시고,\n",
        "# 2. 런타임 재기동 후 주석 처리하세요."
      ],
      "metadata": {
        "id": "dLiWcvU1WXk0"
      },
      "execution_count": 11,
      "outputs": []
    },
    {
      "cell_type": "code",
      "source": [
        "%run my_init.py"
      ],
      "metadata": {
        "colab": {
          "base_uri": "https://localhost:8080/"
        },
        "id": "EN0TEW1HZ3CD",
        "outputId": "967c6021-365e-4e3f-9b36-72be1db77aec"
      },
      "execution_count": 12,
      "outputs": [
        {
          "output_type": "stream",
          "name": "stdout",
          "text": [
            "Mounted at /content/drive\n"
          ]
        }
      ]
    },
    {
      "cell_type": "code",
      "source": [
        "%matplotlib inline"
      ],
      "metadata": {
        "id": "dwfm3fiCmcS6"
      },
      "execution_count": 13,
      "outputs": []
    },
    {
      "cell_type": "code",
      "source": [
        "base_dir = '/content/drive/MyDrive/청년취업사관학교/금천캠퍼스/01.머신러닝/D02'"
      ],
      "metadata": {
        "id": "EII92avIfMkN"
      },
      "execution_count": 14,
      "outputs": []
    },
    {
      "cell_type": "code",
      "source": [
        "%%writefile test.txt\n",
        "이 파일은 테스트 파일입니다."
      ],
      "metadata": {
        "colab": {
          "base_uri": "https://localhost:8080/"
        },
        "id": "M_esZljQf42y",
        "outputId": "285f63f1-8987-4cb4-8766-27a96efcb431"
      },
      "execution_count": 15,
      "outputs": [
        {
          "output_type": "stream",
          "name": "stdout",
          "text": [
            "Overwriting test.txt\n"
          ]
        }
      ]
    },
    {
      "cell_type": "code",
      "source": [
        "import os\n",
        "\n",
        "file_name = os.path.join(base_dir, 'test.txt')\n",
        "print(file_name)"
      ],
      "metadata": {
        "colab": {
          "base_uri": "https://localhost:8080/"
        },
        "id": "MPkdFlHDgWIf",
        "outputId": "b7b42004-11e7-4de3-85a7-9dac94a2b20f"
      },
      "execution_count": 16,
      "outputs": [
        {
          "output_type": "stream",
          "name": "stdout",
          "text": [
            "/content/drive/MyDrive/청년취업사관학교/금천캠퍼스/01.머신러닝/D02/test.txt\n"
          ]
        }
      ]
    },
    {
      "cell_type": "code",
      "source": [
        "base_dir + '/test.txt'"
      ],
      "metadata": {
        "colab": {
          "base_uri": "https://localhost:8080/",
          "height": 35
        },
        "id": "jOhqx1IMg7kR",
        "outputId": "cb9915c1-c008-48fc-884b-4f674b9b941b"
      },
      "execution_count": 17,
      "outputs": [
        {
          "output_type": "execute_result",
          "data": {
            "text/plain": [
              "'/content/drive/MyDrive/청년취업사관학교/금천캠퍼스/01.머신러닝/D02/test.txt'"
            ],
            "application/vnd.google.colaboratory.intrinsic+json": {
              "type": "string"
            }
          },
          "metadata": {},
          "execution_count": 17
        }
      ]
    },
    {
      "cell_type": "code",
      "source": [
        "f = open(file_name, 'w')\n",
        "f.write('이 파일은 테스트 파일입니다.\\n')\n",
        "f.close()"
      ],
      "metadata": {
        "id": "PXYYL5jVilNP",
        "colab": {
          "base_uri": "https://localhost:8080/",
          "height": 211
        },
        "outputId": "af5ac5a8-3b51-42fe-efb2-515225e9b1f5"
      },
      "execution_count": 18,
      "outputs": [
        {
          "output_type": "error",
          "ename": "FileNotFoundError",
          "evalue": "ignored",
          "traceback": [
            "\u001b[0;31m---------------------------------------------------------------------------\u001b[0m",
            "\u001b[0;31mFileNotFoundError\u001b[0m                         Traceback (most recent call last)",
            "\u001b[0;32m<ipython-input-18-cfc1ccf40a1e>\u001b[0m in \u001b[0;36m<module>\u001b[0;34m()\u001b[0m\n\u001b[0;32m----> 1\u001b[0;31m \u001b[0mf\u001b[0m \u001b[0;34m=\u001b[0m \u001b[0mopen\u001b[0m\u001b[0;34m(\u001b[0m\u001b[0mfile_name\u001b[0m\u001b[0;34m,\u001b[0m \u001b[0;34m'w'\u001b[0m\u001b[0;34m)\u001b[0m\u001b[0;34m\u001b[0m\u001b[0;34m\u001b[0m\u001b[0m\n\u001b[0m\u001b[1;32m      2\u001b[0m \u001b[0mf\u001b[0m\u001b[0;34m.\u001b[0m\u001b[0mwrite\u001b[0m\u001b[0;34m(\u001b[0m\u001b[0;34m'이 파일은 테스트 파일입니다.\\n'\u001b[0m\u001b[0;34m)\u001b[0m\u001b[0;34m\u001b[0m\u001b[0;34m\u001b[0m\u001b[0m\n\u001b[1;32m      3\u001b[0m \u001b[0mf\u001b[0m\u001b[0;34m.\u001b[0m\u001b[0mclose\u001b[0m\u001b[0;34m(\u001b[0m\u001b[0;34m)\u001b[0m\u001b[0;34m\u001b[0m\u001b[0;34m\u001b[0m\u001b[0m\n",
            "\u001b[0;31mFileNotFoundError\u001b[0m: [Errno 2] No such file or directory: '/content/drive/MyDrive/청년취업사관학교/금천캠퍼스/01.머신러닝/D02/test.txt'"
          ]
        }
      ]
    },
    {
      "cell_type": "markdown",
      "source": [
        "# 제목1\n",
        "## 제목2\n",
        "### 제목3\n",
        "#### 제목4\n",
        "##### 제목5"
      ],
      "metadata": {
        "id": "IAQBOUhijHeS"
      }
    },
    {
      "cell_type": "markdown",
      "source": [
        "`f = open(file_name, 'w')`<br>\n",
        "`f.write('이 파일은 테스트 파일입니다.\\n')`<br>\n",
        "`f.close()`"
      ],
      "metadata": {
        "id": "FFzU_yzUjspe"
      }
    },
    {
      "cell_type": "markdown",
      "source": [
        ">내용"
      ],
      "metadata": {
        "id": "hoKqyjKAkcPi"
      }
    },
    {
      "cell_type": "markdown",
      "source": [
        ">>내용"
      ],
      "metadata": {
        "id": "9OZ_HDxTkklX"
      }
    },
    {
      "cell_type": "markdown",
      "source": [
        "선형방정식은 $y = ax+b$와 같은 유형입니다.$X_{i} + X_{i}^{2}$"
      ],
      "metadata": {
        "id": "0dfWzK1mk4wN"
      }
    },
    {
      "cell_type": "markdown",
      "source": [
        "$$y = ax+b$$"
      ],
      "metadata": {
        "id": "Vy29BSgPlQhG"
      }
    },
    {
      "cell_type": "markdown",
      "source": [
        "$ \\sum_{n=1}^{\\infty} 2^{-n} = 1 $"
      ],
      "metadata": {
        "id": "04md7CGBnDZ4"
      }
    },
    {
      "cell_type": "markdown",
      "source": [
        "$\\sigma^{2}=\\frac{1}{n}\\sum_{i=1}^{n}(\\bar{x}-x_{i})^2$"
      ],
      "metadata": {
        "id": "84IXXX6UtK5y"
      }
    },
    {
      "cell_type": "markdown",
      "source": [
        "$$\\sigma^{2}=\\frac{1}{n}\\sum_{i=1}^{n}(\\bar{x}-x_{i})^2$$"
      ],
      "metadata": {
        "id": "E5PGKuE0ux1k"
      }
    },
    {
      "cell_type": "code",
      "source": [
        "np.random.seed(42)\n",
        "samples = np.random.randint(1,101,100)\n",
        "sample_df = pd.DataFrame({\"col1\": samples})"
      ],
      "metadata": {
        "id": "VYfoMr-ZXluy"
      },
      "execution_count": 20,
      "outputs": []
    },
    {
      "cell_type": "code",
      "source": [
        "sample_df.head(3)"
      ],
      "metadata": {
        "colab": {
          "base_uri": "https://localhost:8080/",
          "height": 143
        },
        "id": "Sb3yAxldYU4N",
        "outputId": "6d8fbcbb-0693-4fbf-8f7b-a0019b30dabd"
      },
      "execution_count": 22,
      "outputs": [
        {
          "output_type": "execute_result",
          "data": {
            "text/plain": [
              "   col1\n",
              "0    52\n",
              "1    93\n",
              "2    15"
            ],
            "text/html": [
              "\n",
              "  <div id=\"df-4c40e3b7-5526-457f-8750-6d180335d259\">\n",
              "    <div class=\"colab-df-container\">\n",
              "      <div>\n",
              "<style scoped>\n",
              "    .dataframe tbody tr th:only-of-type {\n",
              "        vertical-align: middle;\n",
              "    }\n",
              "\n",
              "    .dataframe tbody tr th {\n",
              "        vertical-align: top;\n",
              "    }\n",
              "\n",
              "    .dataframe thead th {\n",
              "        text-align: right;\n",
              "    }\n",
              "</style>\n",
              "<table border=\"1\" class=\"dataframe\">\n",
              "  <thead>\n",
              "    <tr style=\"text-align: right;\">\n",
              "      <th></th>\n",
              "      <th>col1</th>\n",
              "    </tr>\n",
              "  </thead>\n",
              "  <tbody>\n",
              "    <tr>\n",
              "      <th>0</th>\n",
              "      <td>52</td>\n",
              "    </tr>\n",
              "    <tr>\n",
              "      <th>1</th>\n",
              "      <td>93</td>\n",
              "    </tr>\n",
              "    <tr>\n",
              "      <th>2</th>\n",
              "      <td>15</td>\n",
              "    </tr>\n",
              "  </tbody>\n",
              "</table>\n",
              "</div>\n",
              "      <button class=\"colab-df-convert\" onclick=\"convertToInteractive('df-4c40e3b7-5526-457f-8750-6d180335d259')\"\n",
              "              title=\"Convert this dataframe to an interactive table.\"\n",
              "              style=\"display:none;\">\n",
              "        \n",
              "  <svg xmlns=\"http://www.w3.org/2000/svg\" height=\"24px\"viewBox=\"0 0 24 24\"\n",
              "       width=\"24px\">\n",
              "    <path d=\"M0 0h24v24H0V0z\" fill=\"none\"/>\n",
              "    <path d=\"M18.56 5.44l.94 2.06.94-2.06 2.06-.94-2.06-.94-.94-2.06-.94 2.06-2.06.94zm-11 1L8.5 8.5l.94-2.06 2.06-.94-2.06-.94L8.5 2.5l-.94 2.06-2.06.94zm10 10l.94 2.06.94-2.06 2.06-.94-2.06-.94-.94-2.06-.94 2.06-2.06.94z\"/><path d=\"M17.41 7.96l-1.37-1.37c-.4-.4-.92-.59-1.43-.59-.52 0-1.04.2-1.43.59L10.3 9.45l-7.72 7.72c-.78.78-.78 2.05 0 2.83L4 21.41c.39.39.9.59 1.41.59.51 0 1.02-.2 1.41-.59l7.78-7.78 2.81-2.81c.8-.78.8-2.07 0-2.86zM5.41 20L4 18.59l7.72-7.72 1.47 1.35L5.41 20z\"/>\n",
              "  </svg>\n",
              "      </button>\n",
              "      \n",
              "  <style>\n",
              "    .colab-df-container {\n",
              "      display:flex;\n",
              "      flex-wrap:wrap;\n",
              "      gap: 12px;\n",
              "    }\n",
              "\n",
              "    .colab-df-convert {\n",
              "      background-color: #E8F0FE;\n",
              "      border: none;\n",
              "      border-radius: 50%;\n",
              "      cursor: pointer;\n",
              "      display: none;\n",
              "      fill: #1967D2;\n",
              "      height: 32px;\n",
              "      padding: 0 0 0 0;\n",
              "      width: 32px;\n",
              "    }\n",
              "\n",
              "    .colab-df-convert:hover {\n",
              "      background-color: #E2EBFA;\n",
              "      box-shadow: 0px 1px 2px rgba(60, 64, 67, 0.3), 0px 1px 3px 1px rgba(60, 64, 67, 0.15);\n",
              "      fill: #174EA6;\n",
              "    }\n",
              "\n",
              "    [theme=dark] .colab-df-convert {\n",
              "      background-color: #3B4455;\n",
              "      fill: #D2E3FC;\n",
              "    }\n",
              "\n",
              "    [theme=dark] .colab-df-convert:hover {\n",
              "      background-color: #434B5C;\n",
              "      box-shadow: 0px 1px 3px 1px rgba(0, 0, 0, 0.15);\n",
              "      filter: drop-shadow(0px 1px 2px rgba(0, 0, 0, 0.3));\n",
              "      fill: #FFFFFF;\n",
              "    }\n",
              "  </style>\n",
              "\n",
              "      <script>\n",
              "        const buttonEl =\n",
              "          document.querySelector('#df-4c40e3b7-5526-457f-8750-6d180335d259 button.colab-df-convert');\n",
              "        buttonEl.style.display =\n",
              "          google.colab.kernel.accessAllowed ? 'block' : 'none';\n",
              "\n",
              "        async function convertToInteractive(key) {\n",
              "          const element = document.querySelector('#df-4c40e3b7-5526-457f-8750-6d180335d259');\n",
              "          const dataTable =\n",
              "            await google.colab.kernel.invokeFunction('convertToInteractive',\n",
              "                                                     [key], {});\n",
              "          if (!dataTable) return;\n",
              "\n",
              "          const docLinkHtml = 'Like what you see? Visit the ' +\n",
              "            '<a target=\"_blank\" href=https://colab.research.google.com/notebooks/data_table.ipynb>data table notebook</a>'\n",
              "            + ' to learn more about interactive tables.';\n",
              "          element.innerHTML = '';\n",
              "          dataTable['output_type'] = 'display_data';\n",
              "          await google.colab.output.renderOutput(dataTable, element);\n",
              "          const docLink = document.createElement('div');\n",
              "          docLink.innerHTML = docLinkHtml;\n",
              "          element.appendChild(docLink);\n",
              "        }\n",
              "      </script>\n",
              "    </div>\n",
              "  </div>\n",
              "  "
            ]
          },
          "metadata": {},
          "execution_count": 22
        }
      ]
    },
    {
      "cell_type": "markdown",
      "source": [
        "#분산의 식\n",
        "\n",
        ": 왼쪽 모수로 할 때\n",
        "$$\\sigma^{2}=\\frac{1}{N}\\sum_{i=1}^{N}(\\bar{x}-x_{i})^2$$"
      ],
      "metadata": {
        "id": "xzsQJKjSbbvC"
      }
    },
    {
      "cell_type": "markdown",
      "source": [
        "#불편분산의 식\n",
        "\n",
        ":오른쪽 통계로 할 때\n",
        "$$\\sigma^{2}=\\frac{1}{n-1}\\sum_{i=1}^{n}(\\bar{x}-x_{i})^2$$"
      ],
      "metadata": {
        "id": "qgUJd2vVbcdX"
      }
    },
    {
      "cell_type": "code",
      "source": [
        "# 분산(pandas)\n",
        "sample_df['col1'].var() #pandas는 기본적으로 분산을 구하는 식의 분모가 n-1(불편분산)으로 계산된다."
      ],
      "metadata": {
        "colab": {
          "base_uri": "https://localhost:8080/"
        },
        "id": "pVoX4rGeYbK8",
        "outputId": "7649a83f-682a-47a3-de44-4e8571045fe8"
      },
      "execution_count": 45,
      "outputs": [
        {
          "output_type": "execute_result",
          "data": {
            "text/plain": [
              "865.8872727272732"
            ]
          },
          "metadata": {},
          "execution_count": 45
        }
      ]
    },
    {
      "cell_type": "code",
      "source": [
        "#분산 구하기(numpy)\n",
        "samples.var() #numpy는 기본적으로 분산을 구하는 식의 분모가 n으로 계산"
      ],
      "metadata": {
        "colab": {
          "base_uri": "https://localhost:8080/"
        },
        "id": "ZKUJT7R6YoPE",
        "outputId": "d7ce8330-3514-454c-9e08-d62c1effa939"
      },
      "execution_count": 46,
      "outputs": [
        {
          "output_type": "execute_result",
          "data": {
            "text/plain": [
              "857.2284"
            ]
          },
          "metadata": {},
          "execution_count": 46
        }
      ]
    },
    {
      "cell_type": "code",
      "source": [
        "sample_df['col1'].var(ddof = 0) # pandas에서 표본분산(n으로 나눈 값)의 값을 구하려면 parameter값 ddof = 0으로 지정"
      ],
      "metadata": {
        "colab": {
          "base_uri": "https://localhost:8080/"
        },
        "id": "ipKIu50QbTbl",
        "outputId": "ac9c4638-6997-4325-b805-4f419a60a21f"
      },
      "execution_count": 47,
      "outputs": [
        {
          "output_type": "execute_result",
          "data": {
            "text/plain": [
              "857.2284000000004"
            ]
          },
          "metadata": {},
          "execution_count": 47
        }
      ]
    },
    {
      "cell_type": "code",
      "source": [
        "samples.var(ddof = 1) #numpy에서 불편분산(n-1로 나눈 값)을 구하려면 ddof =1로 지정"
      ],
      "metadata": {
        "colab": {
          "base_uri": "https://localhost:8080/"
        },
        "id": "2X_P0n_lcGV6",
        "outputId": "15e00ca4-f11c-439a-8564-71f9d061e809"
      },
      "execution_count": 48,
      "outputs": [
        {
          "output_type": "execute_result",
          "data": {
            "text/plain": [
              "865.8872727272727"
            ]
          },
          "metadata": {},
          "execution_count": 48
        }
      ]
    },
    {
      "cell_type": "code",
      "source": [
        "bream_length = [25.4, 26.3, 26.5, 29.0, 29.0, 29.7, 29.7, 30.0, 30.0, 30.7, 31.0, 31.0, \n",
        "                31.5, 32.0, 32.0, 32.0, 33.0, 33.0, 33.5, 33.5, 34.0, 34.0, 34.5, 35.0, \n",
        "                35.0, 35.0, 35.0, 36.0, 36.0, 37.0, 38.5, 38.5, 39.5, 41.0, 41.0]\n",
        "bream_weight = [242.0, 290.0, 340.0, 363.0, 430.0, 450.0, 500.0, 390.0, 450.0, 500.0, 475.0, 500.0, \n",
        "                500.0, 340.0, 600.0, 600.0, 700.0, 700.0, 610.0, 650.0, 575.0, 685.0, 620.0, 680.0, \n",
        "                700.0, 725.0, 720.0, 714.0, 850.0, 1000.0, 920.0, 955.0, 925.0, 975.0, 950.0]"
      ],
      "metadata": {
        "id": "5rq62lIVuGvm"
      },
      "execution_count": 23,
      "outputs": []
    },
    {
      "cell_type": "code",
      "source": [
        "len(bream_length)"
      ],
      "metadata": {
        "colab": {
          "base_uri": "https://localhost:8080/"
        },
        "id": "cHWIthJqI1S9",
        "outputId": "f4d9beeb-bbb5-4ef5-d4d7-2bb543202f84"
      },
      "execution_count": 24,
      "outputs": [
        {
          "output_type": "execute_result",
          "data": {
            "text/plain": [
              "35"
            ]
          },
          "metadata": {},
          "execution_count": 24
        }
      ]
    },
    {
      "cell_type": "code",
      "source": [
        "len(bream_weight)"
      ],
      "metadata": {
        "colab": {
          "base_uri": "https://localhost:8080/"
        },
        "id": "4LOZqxmaJIkh",
        "outputId": "3eedf3fd-975e-4f73-c5ec-8849a68cdf3a"
      },
      "execution_count": 25,
      "outputs": [
        {
          "output_type": "execute_result",
          "data": {
            "text/plain": [
              "35"
            ]
          },
          "metadata": {},
          "execution_count": 25
        }
      ]
    },
    {
      "cell_type": "code",
      "source": [
        "smelt_length = [9.8, 10.5, 10.6, 11.0, 11.2, 11.3, 11.8, 11.8, 12.0, 12.2, 12.4, 13.0, 14.3, 15.0]\n",
        "smelt_weight = [6.7, 7.5, 7.0, 9.7, 9.8, 8.7, 10.0, 9.9, 9.8, 12.2, 13.4, 12.2, 19.7, 19.9]"
      ],
      "metadata": {
        "id": "vur7ZDt0R9Oo"
      },
      "execution_count": 26,
      "outputs": []
    },
    {
      "cell_type": "code",
      "source": [
        "print(f\"빙어 length 길이: {len(smelt_length)}, weight 길이: {len(smelt_weight)}\")"
      ],
      "metadata": {
        "colab": {
          "base_uri": "https://localhost:8080/"
        },
        "id": "L8RuNW8VSKsR",
        "outputId": "68522366-3121-4c38-bbe0-ecde9dfd6024"
      },
      "execution_count": 27,
      "outputs": [
        {
          "output_type": "stream",
          "name": "stdout",
          "text": [
            "빙어 length 길이: 14, weight 길이: 14\n"
          ]
        }
      ]
    },
    {
      "cell_type": "code",
      "source": [
        "?plt.scatter"
      ],
      "metadata": {
        "id": "lODjwEaoOPeA"
      },
      "execution_count": 28,
      "outputs": []
    },
    {
      "cell_type": "code",
      "source": [
        "??plt.scatter"
      ],
      "metadata": {
        "id": "A_P0WDUWPVfN"
      },
      "execution_count": 29,
      "outputs": []
    },
    {
      "cell_type": "code",
      "source": [
        "plt.scatter(bream_length, bream_weight)\n",
        "plt.scatter(smelt_length, smelt_weight)\n",
        "plt.xlabel('length')\n",
        "plt.ylabel('weight')\n",
        "plt.legend(['bream', 'smelt'])\n",
        "plt.show()"
      ],
      "metadata": {
        "colab": {
          "base_uri": "https://localhost:8080/",
          "height": 279
        },
        "id": "diT9jgPwP53Y",
        "outputId": "5167b426-9815-49e5-c892-80877db829b0"
      },
      "execution_count": 30,
      "outputs": [
        {
          "output_type": "display_data",
          "data": {
            "text/plain": [
              "<Figure size 432x288 with 1 Axes>"
            ],
            "image/png": "[encoded data removed]"
          },
          "metadata": {
            "needs_background": "light"
          }
        }
      ]
    },
    {
      "cell_type": "code",
      "source": [
        "?range(3)"
      ],
      "metadata": {
        "id": "5BqN5-lxVKwn"
      },
      "execution_count": 31,
      "outputs": []
    },
    {
      "cell_type": "code",
      "source": [
        "for i in range(3):\n",
        "  print(i)"
      ],
      "metadata": {
        "colab": {
          "base_uri": "https://localhost:8080/"
        },
        "id": "-PqCkI-tmzVE",
        "outputId": "648130f2-b31c-4982-c64c-7a12bafeca7f"
      },
      "execution_count": 32,
      "outputs": [
        {
          "output_type": "stream",
          "name": "stdout",
          "text": [
            "0\n",
            "1\n",
            "2\n"
          ]
        }
      ]
    },
    {
      "cell_type": "code",
      "source": [
        "a = list(range(10, 51, 10))\n",
        "a"
      ],
      "metadata": {
        "colab": {
          "base_uri": "https://localhost:8080/"
        },
        "id": "HKZQfUCPnR1w",
        "outputId": "d4f3b193-d540-49a3-dfb3-27c3cb42732a"
      },
      "execution_count": 33,
      "outputs": [
        {
          "output_type": "execute_result",
          "data": {
            "text/plain": [
              "[10, 20, 30, 40, 50]"
            ]
          },
          "metadata": {},
          "execution_count": 33
        }
      ]
    },
    {
      "cell_type": "code",
      "source": [
        "b = list(range(1, 6))\n",
        "b"
      ],
      "metadata": {
        "colab": {
          "base_uri": "https://localhost:8080/"
        },
        "id": "ULlIsVOYnvNV",
        "outputId": "d3b2d1c8-c557-4d0b-93c4-fcc31068a181"
      },
      "execution_count": 34,
      "outputs": [
        {
          "output_type": "execute_result",
          "data": {
            "text/plain": [
              "[1, 2, 3, 4, 5]"
            ]
          },
          "metadata": {},
          "execution_count": 34
        }
      ]
    },
    {
      "cell_type": "code",
      "source": [
        "zip(a, b)"
      ],
      "metadata": {
        "colab": {
          "base_uri": "https://localhost:8080/"
        },
        "id": "IuzLLz12oMo7",
        "outputId": "5974b646-4513-4751-89ab-afd569bcb971"
      },
      "execution_count": 35,
      "outputs": [
        {
          "output_type": "execute_result",
          "data": {
            "text/plain": [
              "<zip at 0x7f9047dbc0a0>"
            ]
          },
          "metadata": {},
          "execution_count": 35
        }
      ]
    },
    {
      "cell_type": "code",
      "source": [
        "for t in zip(a, b):\n",
        "  print(t)"
      ],
      "metadata": {
        "colab": {
          "base_uri": "https://localhost:8080/"
        },
        "id": "Da3NNW8npyF9",
        "outputId": "b1d7ae25-636a-41e3-e33d-40485236188e"
      },
      "execution_count": 36,
      "outputs": [
        {
          "output_type": "stream",
          "name": "stdout",
          "text": [
            "(10, 1)\n",
            "(20, 2)\n",
            "(30, 3)\n",
            "(40, 4)\n",
            "(50, 5)\n"
          ]
        }
      ]
    },
    {
      "cell_type": "code",
      "source": [
        "for x, y in zip(a, b):\n",
        "  print(f\"{x}, {y}\")"
      ],
      "metadata": {
        "colab": {
          "base_uri": "https://localhost:8080/"
        },
        "id": "_NcMBCk8qBGK",
        "outputId": "a2072541-b3de-4b8b-aa5e-7e00de9897be"
      },
      "execution_count": 37,
      "outputs": [
        {
          "output_type": "stream",
          "name": "stdout",
          "text": [
            "10, 1\n",
            "20, 2\n",
            "30, 3\n",
            "40, 4\n",
            "50, 5\n"
          ]
        }
      ]
    },
    {
      "cell_type": "code",
      "source": [
        "data = [t for t in zip(a, b)]\n",
        "data"
      ],
      "metadata": {
        "colab": {
          "base_uri": "https://localhost:8080/"
        },
        "id": "JgTo04h8rsdx",
        "outputId": "2e567e2a-e063-44ca-f9ed-a7cc1eb5db44"
      },
      "execution_count": 38,
      "outputs": [
        {
          "output_type": "execute_result",
          "data": {
            "text/plain": [
              "[(10, 1), (20, 2), (30, 3), (40, 4), (50, 5)]"
            ]
          },
          "metadata": {},
          "execution_count": 38
        }
      ]
    },
    {
      "cell_type": "code",
      "source": [
        "data2 = [(x, y) for x, y in zip(a, b)]\n",
        "data2"
      ],
      "metadata": {
        "colab": {
          "base_uri": "https://localhost:8080/"
        },
        "id": "r9ABVNkcr42p",
        "outputId": "a5400331-3ee5-4f78-9b8f-cfd8e7faddc5"
      },
      "execution_count": 39,
      "outputs": [
        {
          "output_type": "execute_result",
          "data": {
            "text/plain": [
              "[(10, 1), (20, 2), (30, 3), (40, 4), (50, 5)]"
            ]
          },
          "metadata": {},
          "execution_count": 39
        }
      ]
    },
    {
      "cell_type": "code",
      "source": [
        "data3 = [(x*2, y*3) for x, y in zip(a, b)]\n",
        "data3"
      ],
      "metadata": {
        "colab": {
          "base_uri": "https://localhost:8080/"
        },
        "id": "0WWi_CIms5xx",
        "outputId": "da7fe276-35ea-4a2c-bae4-c3a3ae90d299"
      },
      "execution_count": 40,
      "outputs": [
        {
          "output_type": "execute_result",
          "data": {
            "text/plain": [
              "[(20, 3), (40, 6), (60, 9), (80, 12), (100, 15)]"
            ]
          },
          "metadata": {},
          "execution_count": 40
        }
      ]
    },
    {
      "cell_type": "code",
      "source": [
        "a = [1, 2, 3]\n",
        "b = {\"x\": 1, \"y\": 2}"
      ],
      "metadata": {
        "id": "MYXjrEDj3eAS"
      },
      "execution_count": 41,
      "outputs": []
    },
    {
      "cell_type": "code",
      "source": [
        "def fn(*args, **kwargs):\n",
        "  for i, arg in enumerate(args):\n",
        "    print(f\"{i}: {arg}\")\n",
        "  for k, v in kwargs.items():\n",
        "    print(f\"{k}: {v}\")"
      ],
      "metadata": {
        "id": "p4Xm-8CP3p4E"
      },
      "execution_count": 42,
      "outputs": []
    },
    {
      "cell_type": "code",
      "source": [
        "fn(*a, **b)"
      ],
      "metadata": {
        "colab": {
          "base_uri": "https://localhost:8080/"
        },
        "id": "WWUoBz9n4Vm4",
        "outputId": "52a33243-7111-4831-b01f-50c78446b591"
      },
      "execution_count": 43,
      "outputs": [
        {
          "output_type": "stream",
          "name": "stdout",
          "text": [
            "0: 1\n",
            "1: 2\n",
            "2: 3\n",
            "x: 1\n",
            "y: 2\n"
          ]
        }
      ]
    },
    {
      "cell_type": "code",
      "source": [
        "fn(1, 2, 3, x=1, y=2)"
      ],
      "metadata": {
        "colab": {
          "base_uri": "https://localhost:8080/"
        },
        "id": "XAgbX3fm4h30",
        "outputId": "bf8248bb-e7c5-458a-dfc3-a23354001c13"
      },
      "execution_count": 44,
      "outputs": [
        {
          "output_type": "stream",
          "name": "stdout",
          "text": [
            "0: 1\n",
            "1: 2\n",
            "2: 3\n",
            "x: 1\n",
            "y: 2\n"
          ]
        }
      ]
    },
    {
      "cell_type": "code",
      "source": [
        ""
      ],
      "metadata": {
        "id": "z7ic1xgyVdpU"
      },
      "execution_count": 44,
      "outputs": []
    }
  ]
}